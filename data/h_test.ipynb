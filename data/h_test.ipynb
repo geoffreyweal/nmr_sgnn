{
 "cells": [
  {
   "cell_type": "code",
   "execution_count": 1,
   "metadata": {},
   "outputs": [],
   "source": [
    "import numpy as np\n",
    "import os\n",
    "from rdkit import Chem, RDConfig, rdBase\n",
    "from rdkit.Chem import AllChem, ChemicalFeatures\n",
    "import argparse"
   ]
  },
  {
   "cell_type": "code",
   "execution_count": 2,
   "metadata": {},
   "outputs": [],
   "source": [
    "molsuppl = Chem.SDMolSupplier('./nmrshiftdb2withsignals.sd', removeHs = False)"
   ]
  },
  {
   "cell_type": "code",
   "execution_count": 23,
   "metadata": {},
   "outputs": [
    {
     "data": {
      "image/png": "[encoded data removed]",
      "text/plain": [
       "<rdkit.Chem.rdchem.Mol at 0x7fe1b7c63040>"
      ]
     },
     "execution_count": 23,
     "metadata": {},
     "output_type": "execute_result"
    }
   ],
   "source": [
    "a"
   ]
  },
  {
   "cell_type": "code",
   "execution_count": 3,
   "metadata": {},
   "outputs": [],
   "source": [
    "rdBase.DisableLog('rdApp.error') \n",
    "rdBase.DisableLog('rdApp.warning')\n",
    "chem_feature_factory = ChemicalFeatures.BuildFeatureFactory(os.path.join(RDConfig.RDDataDir, 'BaseFeatures.fdef'))\n",
    "\n",
    "\n",
    "def get_atom_shifts_13C(mol):\n",
    "    \n",
    "    molprops = mol.GetPropsAsDict()\n",
    "    \n",
    "    atom_shifts = {}\n",
    "    for key in molprops.keys():\n",
    "    \n",
    "        if key.startswith('Spectrum 13C'):\n",
    "            \n",
    "            for shift in molprops[key].split('|')[:-1]:\n",
    "            \n",
    "                [shift_val, _, shift_idx] = shift.split(';')\n",
    "                shift_val, shift_idx = float(shift_val), int(shift_idx)\n",
    "            \n",
    "                if shift_idx not in atom_shifts: atom_shifts[shift_idx] = []\n",
    "                atom_shifts[shift_idx].append(shift_val)\n",
    "\n",
    "    return atom_shifts\n",
    "\n",
    "\n",
    "\n",
    "def get_atom_shifts_1H(mol):\n",
    "    \n",
    "    molprops = mol.GetPropsAsDict()\n",
    "    \n",
    "    atom_shifts = {}\n",
    "    for key in molprops.keys():\n",
    "    \n",
    "        if key.startswith('Spectrum 1H'):\n",
    "            \n",
    "            tmp_dict = {}\n",
    "\n",
    "            for shift in molprops[key].split('|')[:-1]:\n",
    "            \n",
    "                [shift_val, _, shift_idx] = shift.split(';')\n",
    "                shift_val, shift_idx = float(shift_val), int(shift_idx)\n",
    "            \n",
    "                if shift_idx not in tmp_dict: tmp_dict[shift_idx] = []\n",
    "                tmp_dict[shift_idx].append(shift_val)\n",
    "                \n",
    "\n",
    "            for shift_idx in tmp_dict.keys():\n",
    "                tmp_dict[shift_idx] = np.mean(tmp_dict[shift_idx])\n",
    "                \n",
    "                if shift_idx not in atom_shifts: atom_shifts[shift_idx] = []\n",
    "                atom_shifts[shift_idx].append(tmp_dict[shift_idx])\n",
    "\n",
    "            \n",
    "\n",
    "\n",
    "    return atom_shifts\n"
   ]
  },
  {
   "cell_type": "code",
   "execution_count": 12,
   "metadata": {},
   "outputs": [],
   "source": [
    "n_node_list=[]\n",
    "n_heavy_node_list=[]\n",
    "target='13C'\n",
    "n_shifts_list=[]\n",
    "idx_list = []"
   ]
  },
  {
   "cell_type": "code",
   "execution_count": 36,
   "metadata": {},
   "outputs": [],
   "source": [
    "for i, mol in enumerate(molsuppl):\n",
    "    try:\n",
    "        Chem.SanitizeMol(mol)\n",
    "        si = Chem.FindPotentialStereo(mol)\n",
    "        for element in si:\n",
    "            if str(element.type) == 'Atom_Tetrahedral' and str(element.specified) == 'Specified':\n",
    "                mol.GetAtomWithIdx(element.centeredOn).SetProp('Chirality', str(element.descriptor))\n",
    "            elif str(element.type) == 'Bond_Double' and str(element.specified) == 'Specified':\n",
    "                mol.GetBondWithIdx(element.centeredOn).SetProp('Stereochemistry', str(element.descriptor))\n",
    "        assert '.' not in Chem.MolToSmiles(mol)\n",
    "    except:\n",
    "        continue\n",
    "    \n",
    "    smiles = Chem.MolToSmiles(mol)\n",
    "    if smiles == 'O=C(O)CCC':\n",
    "        print('find!')\n",
    "        break"
   ]
  },
  {
   "cell_type": "code",
   "execution_count": 13,
   "metadata": {},
   "outputs": [],
   "source": [
    "for i, mol in enumerate(molsuppl):\n",
    "\n",
    "    try:\n",
    "        Chem.SanitizeMol(mol)\n",
    "        si = Chem.FindPotentialStereo(mol)\n",
    "        for element in si:\n",
    "            if str(element.type) == 'Atom_Tetrahedral' and str(element.specified) == 'Specified':\n",
    "                mol.GetAtomWithIdx(element.centeredOn).SetProp('Chirality', str(element.descriptor))\n",
    "            elif str(element.type) == 'Bond_Double' and str(element.specified) == 'Specified':\n",
    "                mol.GetBondWithIdx(element.centeredOn).SetProp('Stereochemistry', str(element.descriptor))\n",
    "        assert '.' not in Chem.MolToSmiles(mol)\n",
    "    except:\n",
    "        continue\n",
    "\n",
    "    if target == '13C': \n",
    "        atom_shifts = get_atom_shifts_13C(mol)\n",
    "    elif target == '1H':\n",
    "        atom_shifts = get_atom_shifts_1H(mol)\n",
    "\n",
    "\n",
    "    \n",
    "    if len(atom_shifts) == 0: continue\n",
    "    \n",
    "    \n",
    "    \n",
    "    mol_hrm = Chem.RemoveHs(mol)\n",
    "\n",
    "    if 'H' in [at.GetSymbol() for at in mol_hrm.GetAtoms()]:\n",
    "        continue\n",
    "\n",
    "    \n",
    "    n_shifts_list.append(len(atom_shifts))\n",
    "\n",
    "    n_node = mol.GetNumAtoms()\n",
    "    n_heavy_node = mol_hrm.GetNumAtoms()\n",
    "\n",
    "    n_node_list.append(n_node)\n",
    "    n_heavy_node_list.append(n_heavy_node)\n",
    "\n",
    "    idx_list.append(i)"
   ]
  },
  {
   "cell_type": "code",
   "execution_count": 28,
   "metadata": {},
   "outputs": [],
   "source": [
    "little_idx = np.where(np.array(n_heavy_node_list)<6)[0]\n",
    "little_mols = np.array(idx_list)[little_idx]"
   ]
  },
  {
   "cell_type": "code",
   "execution_count": 38,
   "metadata": {},
   "outputs": [
    {
     "data": {
      "text/plain": [
       "'[C]C([C])([C])[O]'"
      ]
     },
     "execution_count": 38,
     "metadata": {},
     "output_type": "execute_result"
    }
   ],
   "source": [
    "Chem.MolToSmiles(molsuppl[711])"
   ]
  },
  {
   "cell_type": "code",
   "execution_count": 33,
   "metadata": {},
   "outputs": [
    {
     "data": {
      "image/png": "[encoded data removed]",
      "text/plain": [
       "<rdkit.Chem.rdchem.Mol at 0x7f378da8d040>"
      ]
     },
     "execution_count": 33,
     "metadata": {},
     "output_type": "execute_result"
    }
   ],
   "source": [
    "molsuppl[711]"
   ]
  },
  {
   "cell_type": "code",
   "execution_count": 37,
   "metadata": {},
   "outputs": [
    {
     "data": {
      "image/png": "[encoded data removed]",
      "text/plain": [
       "<PIL.PngImagePlugin.PngImageFile image mode=RGB size=300x300 at 0x7F37B5528DF0>"
      ]
     },
     "execution_count": 37,
     "metadata": {},
     "output_type": "execute_result"
    }
   ],
   "source": [
    "Chem.Draw.MolToImage(molsuppl[711])"
   ]
  },
  {
   "cell_type": "code",
   "execution_count": 31,
   "metadata": {},
   "outputs": [
    {
     "data": {
      "text/plain": [
       "array([  699,   701,   702,   706,   707,   708,   711,   714,   741,\n",
       "         747,   784,   818,   819,   820,   821,   822,   823,   825,\n",
       "         888,   906,   944,  1035,  1036,  1037,  1038,  1039,  1043,\n",
       "        1184,  1185,  1186,  1187,  1195,  1244,  1245,  1246,  1258,\n",
       "        1398,  1511,  1515,  1586,  2131,  2132,  2133,  2134,  2138,\n",
       "        2139,  2144,  2401,  2459,  2460,  3072,  3073,  3270,  3277,\n",
       "        3278,  3279,  3280,  3281,  3282,  3283,  3284,  3285,  3286,\n",
       "        3287,  3288,  3289,  3324,  3366,  3368,  3371,  3379,  3401,\n",
       "        3408,  3448,  3535,  3537,  3545,  3547,  3556,  3557,  3558,\n",
       "        3559,  3565,  3566,  3577,  3637,  3666,  3671,  3672,  3673,\n",
       "        3675,  3690,  3781,  3808,  3809,  3842,  3858,  3873,  3875,\n",
       "        3890,  3981,  4031,  4056,  4061,  4076,  4119,  4123,  4178,\n",
       "        4223,  4262,  4325,  4339,  4340,  4341,  4343,  4345,  4346,\n",
       "        4370,  4374,  4375,  4376,  4423,  4424,  4425,  4426,  4427,\n",
       "        4428,  4429,  4430,  4433,  4434,  4447,  4448,  4449,  4450,\n",
       "        4451,  4452,  4464,  4467,  4471,  4485,  4486,  4488,  4494,\n",
       "        4495,  4496,  4497,  4498,  4499,  4500,  4504,  4506,  4602,\n",
       "        4603,  4604,  4605,  4606,  4607,  4608,  4611,  4612,  4613,\n",
       "        4614,  4615,  4617,  4663,  4664,  4665,  4721,  4725,  4731,\n",
       "        4770,  4771,  4773,  4774,  4775,  4776,  4777,  4779,  4782,\n",
       "        4783,  4786,  4787,  4896,  4913,  4914,  4915,  4928,  4954,\n",
       "        4967,  4968,  4969,  4970,  4975,  4976,  4989,  4990,  4991,\n",
       "        4993,  4995,  5017,  5026,  5027,  5028,  5031,  5099,  5100,\n",
       "        5101,  5102,  5106,  5112,  5113,  5125,  5126,  5127,  5128,\n",
       "        5129,  5130,  5131,  5132,  5133,  5143,  5144,  5147,  5148,\n",
       "        5149,  5150,  5152,  5155,  5156,  5160,  5164,  5165,  5166,\n",
       "        5167,  5169,  5170,  5171,  5172,  5173,  5177,  5187,  5195,\n",
       "        5196,  5197,  5198,  5199,  5224,  5238,  5239,  5240,  5241,\n",
       "        5242,  5245,  5246,  5261,  5263,  5264,  5279,  5291,  5307,\n",
       "        5366,  5367,  5374,  5375,  5396,  5407,  5409,  5410,  5411,\n",
       "        5412,  5414,  5418,  5427,  5433,  5434,  5440,  5442,  5445,\n",
       "        5478,  5495,  5496,  5506,  5513,  5522,  5530,  5531,  5549,\n",
       "        5552,  5553,  5554,  5555,  5558,  5562,  5563,  5564,  5565,\n",
       "        5567,  5568,  5569,  5589,  5590,  5591,  5592,  5600,  5602,\n",
       "        5608,  6885,  7417,  7418,  7423,  7424,  7425,  7741,  7809,\n",
       "        7821,  7867,  7927,  8687,  8688,  8690,  8691,  8700,  9216,\n",
       "        9217,  9222,  9235,  9250,  9282,  9285,  9286,  9540,  9541,\n",
       "        9542,  9543,  9545,  9556,  9572,  9574,  9750,  9985, 10006,\n",
       "       10029, 10036, 10037, 10042, 10167, 10173, 10174, 10175, 10190,\n",
       "       10191, 10195, 10224, 10225, 10321, 10322, 10532, 10539, 11022,\n",
       "       11026, 11037, 11073, 11228, 11665, 11810, 11812, 12134, 12135,\n",
       "       12252, 12254, 12255, 12256, 12257, 12258, 12259, 12260, 12265,\n",
       "       12266, 12267, 12270, 12281, 12282, 12287, 12312, 12313, 12320,\n",
       "       12337, 12526, 12529, 12530, 12532, 12535, 12538, 13997, 14180,\n",
       "       14181, 14200, 14206, 14211, 14212, 14213, 14214, 14217, 14218,\n",
       "       14223, 14224, 14225, 14239, 14268, 14309, 14422, 14543, 14570,\n",
       "       14575, 14584, 14586, 14718, 14882, 15001, 15002, 15339, 15340,\n",
       "       15382, 15560, 15562, 15573, 15574, 15575, 15577, 15594, 15596,\n",
       "       15664, 15667, 15669, 15670, 15671, 15704, 15709, 15710, 15711,\n",
       "       15831, 15832, 15834, 15836, 15838, 16132, 16311, 16312, 16334,\n",
       "       16531, 16694, 16814, 16817, 16859, 16906, 16978, 17475, 17476,\n",
       "       17478, 17484, 17610, 18583, 29969, 30090, 30732, 31139, 31350,\n",
       "       31631, 31705, 32041, 32163, 32409, 32441, 33054, 33063, 33156,\n",
       "       33164, 33196, 33204, 33217, 33235, 33237, 33283, 33311, 33321,\n",
       "       33359, 33413, 33450, 33474, 33488, 33529, 33567, 33625, 33626,\n",
       "       33632, 33652, 33668, 33670, 33705, 33728, 33762, 33794, 33803,\n",
       "       33836, 33890, 33997, 34004, 34506, 34512, 34607, 34686, 34764,\n",
       "       34956, 35170, 35319, 35438, 35581, 35616, 35652, 35857, 35950,\n",
       "       35973, 35979, 35980, 36116, 36131, 36501, 36546, 36603, 36620,\n",
       "       36628, 36721, 36793, 36801, 36860, 37998, 38052, 38679, 40875,\n",
       "       40899, 41618, 41621, 41622, 41625, 41631, 41632, 41648, 41661,\n",
       "       41662, 41663, 41664, 41668, 41679, 41684, 41685, 41686, 41687,\n",
       "       41695, 41958, 42484, 42489, 42570, 42773, 42817, 43372, 43533])"
      ]
     },
     "execution_count": 31,
     "metadata": {},
     "output_type": "execute_result"
    }
   ],
   "source": [
    "little_mols"
   ]
  },
  {
   "cell_type": "code",
   "execution_count": null,
   "metadata": {},
   "outputs": [],
   "source": []
  },
  {
   "cell_type": "code",
   "execution_count": 10,
   "metadata": {},
   "outputs": [
    {
     "data": {
      "text/plain": [
       "array([  685,   686,   728,   790,   794,   795,   796,   856,   978,\n",
       "         979,   981,   983,  1072,  1074,  1075,  1132,  1403,  2289,\n",
       "        2347,  3157,  3164,  3165,  3166,  3167,  3168,  3169,  3170,\n",
       "        3171,  3174,  3211,  3255,  3335,  3420,  3430,  3443,  3448,\n",
       "        3459,  3519,  3555,  3691,  3753,  3938,  3986,  4041,  4198,\n",
       "        4200,  4201,  4225,  4229,  4277,  4278,  4279,  4280,  4281,\n",
       "        4301,  4317,  4343,  4344,  4345,  4346,  4353,  4355,  4451,\n",
       "        4452,  4453,  4454,  4456,  4457,  4460,  4512,  4760,  4814,\n",
       "        4822,  4836,  4837,  4838,  4840,  4873,  4946,  4947,  4953,\n",
       "        4972,  4974,  4976,  4977,  4990,  4991,  4996,  5011,  5012,\n",
       "        5016,  5017,  5018,  5042,  5044,  5084,  5085,  5086,  5087,\n",
       "        5090,  5091,  5152,  5211,  5219,  5241,  5252,  5255,  5256,\n",
       "        5257,  5259,  5276,  5334,  5369,  5370,  5388,  5389,  5398,\n",
       "        5399,  5400,  5404,  5427,  5428,  5436,  5437,  7251,  7252,\n",
       "        7253,  7628,  7746,  8504,  8505,  9957,  9958, 10002, 10003,\n",
       "       10260, 11393, 11538, 11980, 11982, 11983, 11984, 11985, 11986,\n",
       "       11987, 11988, 11993, 11994, 12009, 12040, 12041, 12048, 12254,\n",
       "       12266, 13939, 13940, 13941, 14729, 14730, 15067, 15395, 15397,\n",
       "       15432, 15559, 16039, 16473, 16947, 17984, 19726, 20368, 20986,\n",
       "       21267, 21677, 22045, 22656, 22758, 22766, 22806, 22913, 23233,\n",
       "       23269, 23306, 23404, 23598, 24022, 24835, 24954, 25096, 25495,\n",
       "       26316, 31078, 31082, 31092, 31108, 31121, 31122, 31124, 31139,\n",
       "       31146, 31147, 31190, 31608, 31689, 31936, 32460])"
      ]
     },
     "execution_count": 10,
     "metadata": {},
     "output_type": "execute_result"
    }
   ],
   "source": [
    "little_idx"
   ]
  },
  {
   "cell_type": "code",
   "execution_count": 11,
   "metadata": {},
   "outputs": [
    {
     "data": {
      "image/png": "[encoded data removed]",
      "text/plain": [
       "<rdkit.Chem.rdchem.Mol at 0x7f37b5064160>"
      ]
     },
     "execution_count": 11,
     "metadata": {},
     "output_type": "execute_result"
    }
   ],
   "source": [
    "molsuppl[685]"
   ]
  },
  {
   "cell_type": "code",
   "execution_count": 48,
   "metadata": {},
   "outputs": [
    {
     "name": "stdout",
     "output_type": "stream",
     "text": [
      "67\n",
      "1\n",
      "17072\n",
      "7.341143392689784\n"
     ]
    }
   ],
   "source": [
    "print(np.max(n_shifts_list))\n",
    "print(np.min(n_shifts_list))\n",
    "print(len(n_shifts_list))\n",
    "print(np.mean(n_shifts_list))"
   ]
  },
  {
   "cell_type": "code",
   "execution_count": 30,
   "metadata": {},
   "outputs": [
    {
     "name": "stdout",
     "output_type": "stream",
     "text": [
      "147\n",
      "1\n",
      "17072\n",
      "21.147082942830366\n",
      "144\n",
      "1\n",
      "17072\n",
      "20.525128865979383\n"
     ]
    }
   ],
   "source": [
    "print(np.max(n_node_list))\n",
    "print(np.min(n_node_list))\n",
    "print(len(n_node_list))\n",
    "print(np.mean(n_node_list))\n",
    "print(np.max(n_heavy_node_list))\n",
    "print(np.min(n_heavy_node_list))\n",
    "print(len(n_heavy_node_list))\n",
    "print(np.mean(n_heavy_node_list))"
   ]
  },
  {
   "cell_type": "code",
   "execution_count": 23,
   "metadata": {},
   "outputs": [
    {
     "name": "stdout",
     "output_type": "stream",
     "text": [
      "171\n",
      "1\n",
      "32609\n",
      "0\n"
     ]
    }
   ],
   "source": [
    "print(np.max(n_node_list))\n",
    "print(np.min(n_node_list))\n",
    "print(len(n_node_list))\n",
    "#print(np.max(n_heavy_node_list))\n",
    "#print(np.min(n_heavy_node_list))\n",
    "print(len(n_heavy_node_list))"
   ]
  },
  {
   "cell_type": "code",
   "execution_count": 28,
   "metadata": {},
   "outputs": [
    {
     "name": "stdout",
     "output_type": "stream",
     "text": [
      "21\n"
     ]
    }
   ],
   "source": [
    "mol = molsuppl[3]\n",
    "print(mol.GetNumAtoms())"
   ]
  },
  {
   "cell_type": "code",
   "execution_count": 29,
   "metadata": {},
   "outputs": [
    {
     "name": "stdout",
     "output_type": "stream",
     "text": [
      "21\n",
      "20\n"
     ]
    }
   ],
   "source": [
    "mol_hrm = Chem.RemoveHs(mol)\n",
    "print(mol.GetNumAtoms())\n",
    "print(mol_hrm.GetNumAtoms())"
   ]
  },
  {
   "cell_type": "code",
   "execution_count": null,
   "metadata": {},
   "outputs": [],
   "source": []
  }
 ],
 "metadata": {
  "interpreter": {
   "hash": "82b6c3d6734400803afae05f0dbe049a3030e6d1e51c5216ec7928e12237754f"
  },
  "kernelspec": {
   "display_name": "Python 3.8.11 ('samsung_dacon')",
   "language": "python",
   "name": "python3"
  },
  "language_info": {
   "codemirror_mode": {
    "name": "ipython",
    "version": 3
   },
   "file_extension": ".py",
   "mimetype": "text/x-python",
   "name": "python",
   "nbconvert_exporter": "python",
   "pygments_lexer": "ipython3",
   "version": "3.8.11"
  },
  "orig_nbformat": 4
 },
 "nbformat": 4,
 "nbformat_minor": 2
}
